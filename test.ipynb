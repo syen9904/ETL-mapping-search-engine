{
 "cells": [
  {
   "cell_type": "code",
   "execution_count": 2,
   "metadata": {},
   "outputs": [
    {
     "name": "stdout",
     "output_type": "stream",
     "text": [
      "Current directory: /Users/apple/Desktop/ETL/local_tests/0309_fastAPI/ETL-mapping-search-engine\n",
      "Parent directory: /Users/apple/Desktop/ETL/local_tests/0309_fastAPI\n",
      "Grandparent directory: /Users/apple/Desktop/ETL/local_tests\n"
     ]
    }
   ],
   "source": [
    "import os\n",
    "\n",
    "# Current directory\n",
    "current_dir = os.getcwd()\n",
    "\n",
    "# Path to the parent directory\n",
    "parent_dir = os.path.dirname(current_dir)\n",
    "\n",
    "\n",
    "# If you need to go up two levels (or more), you can chain dirname()\n",
    "grandparent_dir = os.path.dirname(parent_dir)\n",
    "\n",
    "print(\"Current directory:\", current_dir)\n",
    "print(\"Parent directory:\", parent_dir)\n",
    "print(\"Grandparent directory:\", grandparent_dir)\n"
   ]
  },
  {
   "cell_type": "code",
   "execution_count": 4,
   "metadata": {},
   "outputs": [
    {
     "name": "stdout",
     "output_type": "stream",
     "text": [
      "db already exist at /Users/apple/Desktop/ETL/local_tests/0309_fastAPI/database.db\n"
     ]
    },
    {
     "name": "stderr",
     "output_type": "stream",
     "text": [
      "INFO:     Started server process [30792]\n",
      "INFO:     Waiting for application startup.\n",
      "INFO:     Application startup complete.\n",
      "INFO:     Uvicorn running on http://0.0.0.0:8000 (Press CTRL+C to quit)\n"
     ]
    },
    {
     "name": "stdout",
     "output_type": "stream",
     "text": [
      "INFO:     127.0.0.1:55435 - \"GET /?search_str=c HTTP/1.1\" 200 OK\n",
      "INFO:     127.0.0.1:55435 - \"GET /?search_str=d HTTP/1.1\" 200 OK\n",
      "INFO:     127.0.0.1:55435 - \"GET /?search_str=e HTTP/1.1\" 200 OK\n",
      "INFO:     127.0.0.1:55435 - \"GET /?search_str=f HTTP/1.1\" 200 OK\n"
     ]
    }
   ],
   "source": [
    "import os\n",
    "import pandas as pd\n",
    "import sqlite3\n",
    "from typing import Optional, List\n",
    "from fastapi import FastAPI, Request\n",
    "from fastapi.encoders import jsonable_encoder\n",
    "from fastapi.staticfiles import StaticFiles\n",
    "from fastapi.responses import HTMLResponse, FileResponse\n",
    "import aiosqlite\n",
    "import nest_asyncio\n",
    "import uvicorn\n",
    "\n",
    "def get_db_columns(db_path, table_name):\n",
    "    conn = sqlite3.connect(db_path)\n",
    "    cursor = conn.cursor()\n",
    "    cursor.execute(f\"PRAGMA table_info({table_name});\")\n",
    "    columns = [row[1] for row in cursor.fetchall()] \n",
    "    conn.close()\n",
    "    return columns\n",
    "    \n",
    "def create_fake_df():\n",
    "    data = {\n",
    "        'Name': ['John Doe', 'Jane Doe', 'Jim Brown', 'Jake Blues'],\n",
    "        'Age': [28, 34, 23, 45],\n",
    "        'City': ['New York', 'Los Angeles', 'Chicago', 'New Orleans'],\n",
    "        'Occupation': ['Developer', 'Scientist', 'Manager', 'Musician']\n",
    "    }\n",
    "    df = pd.DataFrame(data)\n",
    "    return df\n",
    "\n",
    "def create_db(csv_path, db_path, table_name) -> List:\n",
    "    if os.path.exists(db_path): \n",
    "        print(f'db already exist at {db_path}')\n",
    "        return get_db_columns(db_path=db_path, table_name=table_name)\n",
    "    if os.path.exists(csv_path):\n",
    "        cteVocabMapDF = pd.read_csv(csv_path, on_bad_lines=\"skip\", delimiter=\"|\")\n",
    "        print('csv was read successfully. Size:', cteVocabMapDF.shape)\n",
    "    else:\n",
    "        cteVocabMapDF = create_fake_df()\n",
    "        print('test df was created successfully. Size:', cteVocabMapDF.shape)\n",
    "    conn = sqlite3.connect(db_path)\n",
    "    cteVocabMapDF.to_sql(table_name, conn, if_exists='replace', index=False)\n",
    "    conn.close()\n",
    "    print(f'db created at {db_path}')\n",
    "    return cteVocabMapDF.columns\n",
    "\n",
    "def indexing(db_path, columns, table_name):\n",
    "    conn = sqlite3.connect(db_path)\n",
    "    for column in columns:     \n",
    "        index_name = f'idx_{column}'\n",
    "        conn.execute(f'CREATE INDEX IF NOT EXISTS {index_name} ON {table_name} ({column})')\n",
    "        print(column)\n",
    "    conn.close()\n",
    "\n",
    "def str_to_query(search_str, columns, table_name) -> str:\n",
    "    select_clause = \", \".join([f'\"{col}\"' for col in columns])\n",
    "    like_clauses = [f'\"{col}\" LIKE \"%{search_str}%\"' for col in columns]\n",
    "    query_condition = \" OR \".join(like_clauses)\n",
    "    query = f\"SELECT {select_clause} FROM {table_name} WHERE {query_condition}\"\n",
    "    return query \n",
    "\n",
    "import asyncio\n",
    "\n",
    "async def search(search_str, columns, table_name, retry_count=3, timeout_duration=10):\n",
    "    query = str_to_query(search_str, columns, table_name)\n",
    "    for attempt in range(retry_count):\n",
    "        try:\n",
    "            async with aiosqlite.connect(db_path) as db:\n",
    "                # Attempt to execute the query with a timeout\n",
    "                cursor = await asyncio.wait_for(db.execute(query), timeout=timeout_duration)\n",
    "                result = await cursor.fetchall()\n",
    "                return result\n",
    "        except asyncio.TimeoutError:\n",
    "            print(f\"Query timeout! Retrying {attempt + 1}/{retry_count}...\")\n",
    "            await asyncio.sleep(1)\n",
    "        except Exception as e:\n",
    "            print(f\"An error occurred: {e}\")\n",
    "            break  # Stop retrying on non-timeout errors\n",
    "    return []  # Return an empty list or appropriate error response if retries exceeded\n",
    " \n",
    "async def construct_html_table(search_str: str, columns: List[str], table_name) -> str:\n",
    "    result = await search(search_str, columns, table_name)\n",
    "    if not result:\n",
    "        return '<p>No results found.</p>'\n",
    "\n",
    "    table_html = '<table border=\"1\"><tr>'\n",
    "    for col in columns:\n",
    "        table_html += f'<th>{col}</th>'\n",
    "    table_html += '</tr>'\n",
    "\n",
    "    for row in result:\n",
    "        table_html += '<tr>' + ''.join([f'<td>{cell}</td>' for cell in row]) + '</tr>'\n",
    "    table_html += '</table>'\n",
    "\n",
    "    return table_html\n",
    "\n",
    "nest_asyncio.apply()\n",
    "app = FastAPI()\n",
    "@app.get(\"/\", response_class=HTMLResponse)\n",
    "async def root(request: Request):\n",
    "    with open(\"template.html\", 'r') as file:\n",
    "        html_content = file.read()\n",
    "\n",
    "    search_str = request.query_params.get('search_str', '') \n",
    "    if search_str:\n",
    "        results = await construct_html_table(search_str, columns, table_name)\n",
    "    else:\n",
    "        results = \"\"\n",
    "    return HTMLResponse(content=html_content.format(search_str=search_str, results=results))\n",
    "\n",
    "parent_dir = os.path.dirname(os.getcwd())\n",
    "csv_path = parent_dir + \"/cteVocabMapDF.csv\"\n",
    "db_path = parent_dir + \"/database.db\"\n",
    "table_name = 'data'\n",
    "COLUMNS = ['source_code', 'source_concept_id', 'source_code_description', 'source_vocabulary_id', 'source_domain_id', 'source_concept_class_id','target_concept_id', 'target_concept_name', 'target_vocabulary_id', 'target_domain_id', 'target_concept_class_id']\n",
    "\n",
    "if __name__ == \"__main__\":\n",
    "    columns = create_db(csv_path=csv_path, db_path=db_path, table_name=table_name)\n",
    "    if os.path.exists(csv_path): columns = COLUMNS\n",
    "    #indexing(db_path=db_path, columns=columns, table_name=table_name)\n",
    "    uvicorn.run(app, host = \"0.0.0.0\", port=8000)   "
   ]
  }
 ],
 "metadata": {
  "kernelspec": {
   "display_name": "Python 3",
   "language": "python",
   "name": "python3"
  },
  "language_info": {
   "codemirror_mode": {
    "name": "ipython",
    "version": 3
   },
   "file_extension": ".py",
   "mimetype": "text/x-python",
   "name": "python",
   "nbconvert_exporter": "python",
   "pygments_lexer": "ipython3",
   "version": "3.11.6"
  },
  "orig_nbformat": 4,
  "vscode": {
   "interpreter": {
    "hash": "7d5d322872960859e74e0cf2821a6067edf62bcf5dd3089075fecc08f8d2cc17"
   }
  }
 },
 "nbformat": 4,
 "nbformat_minor": 2
}
